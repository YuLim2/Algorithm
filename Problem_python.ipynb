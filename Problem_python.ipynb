{
 "cells": [
  {
   "cell_type": "code",
   "execution_count": 4,
   "id": "085cd723",
   "metadata": {},
   "outputs": [
    {
     "name": "stdout",
     "output_type": "stream",
     "text": [
      "숫자를 입력하세요 : 10\n",
      "10 까지의 숫자의 합계를 출력합니다.\n",
      "10 까지의 숫자 중 홀수의 합 : 25\n",
      "10 까지의 숫자 중 짝수의 합 : 20\n",
      "10 까지의 숫자 중 전체의 합 : 45\n"
     ]
    }
   ],
   "source": [
    "# 홀수, 짝수, 전체의 합 구하기\n",
    "number = int(input(\"숫자를 입력하세요 : \"))\n",
    "print(f'{number} 까지의 숫자의 합계를 출력합니다.')\n",
    "hol, zak = 0, 0;\n",
    "\n",
    "for i in range(0, number):\n",
    "    if i%2 == 1:\n",
    "        hol = hol + i\n",
    "    else:\n",
    "        zak = zak + i\n",
    "    \n",
    "print(f'{number} 까지의 숫자 중 홀수의 합 : {hol}')\n",
    "print(f'{number} 까지의 숫자 중 짝수의 합 : {zak}')\n",
    "\n",
    "print(f'{number} 까지의 숫자 중 전체의 합 : {hol + zak}')"
   ]
  },
  {
   "cell_type": "code",
   "execution_count": 6,
   "id": "f0568df6",
   "metadata": {},
   "outputs": [
    {
     "name": "stdout",
     "output_type": "stream",
     "text": [
      "점수 입력 : 1\n",
      "점수 입력 : 2\n",
      "점수 입력 : 34\n",
      "점수 입력 : 3\n",
      "점수 입력 : 4\n",
      "점수 입력 : 5\n",
      "점수 입력 : 6\n",
      "점수 입력 : 7\n",
      "점수 입력 : 8\n",
      "점수 입력 : 9\n",
      "최고 점수 : 34\n"
     ]
    }
   ],
   "source": [
    "# 가장높은 점수 구하기\n",
    "def inPut():\n",
    "    for i in range(0, 10):\n",
    "        score = int(input(\"점수 입력 : \"))\n",
    "        eng_score.append(score)\n",
    "\n",
    "def highScore(list):\n",
    "    list.sort(reverse=True)\n",
    "    print(f'최고 점수 : {list[0]}')\n",
    "\n",
    "eng_score = []\n",
    "inPut()\n",
    "highScore(eng_score)"
   ]
  },
  {
   "cell_type": "code",
   "execution_count": 1,
   "id": "e0c7149b",
   "metadata": {},
   "outputs": [
    {
     "name": "stdout",
     "output_type": "stream",
     "text": [
      "BR31 게임을 시작하겠습니다.\n",
      "31을 말하는 쪽이 패배합니다.\n",
      "몇 개만큼 말할까요?(1~3): 3\n",
      "user: 1\n",
      "user: 2\n",
      "user: 3\n",
      "AI 4\n",
      "AI 5\n",
      "몇 개만큼 말할까요?(1~3): 3\n",
      "user: 6\n",
      "user: 7\n",
      "user: 8\n",
      "AI 9\n",
      "AI 10\n",
      "몇 개만큼 말할까요?(1~3): 3\n",
      "user: 11\n",
      "user: 12\n",
      "user: 13\n",
      "AI 14\n",
      "AI 15\n",
      "몇 개만큼 말할까요?(1~3): 3\n",
      "user: 16\n",
      "user: 17\n",
      "user: 18\n",
      "AI 19\n",
      "AI 20\n",
      "AI 21\n",
      "몇 개만큼 말할까요?(1~3): 3\n",
      "user: 22\n",
      "user: 23\n",
      "user: 24\n",
      "AI 25\n",
      "몇 개만큼 말할까요?(1~3): 3\n",
      "user: 26\n",
      "user: 27\n",
      "user: 28\n",
      "AI 29\n",
      "AI 30\n",
      "몇 개만큼 말할까요?(1~3): 1\n",
      "user: 31\n",
      "당신의 패배입니다\n"
     ]
    }
   ],
   "source": [
    "import random\n",
    "print('BR31 게임을 시작하겠습니다.')\n",
    "print('31을 말하는 쪽이 패배합니다.')\n",
    "number = 0\n",
    "turn = 0 \n",
    "while True:\n",
    "    if turn == 0:\n",
    "        user = int(input('몇 개만큼 말할까요?(1~3): '))\n",
    "        for _ in range(user):\n",
    "            number += 1\n",
    "            print('user:', number)\n",
    "        turn += 1\n",
    "        turn %= 2\n",
    "\n",
    "    elif turn == 1:   \n",
    "        AI = random.randint(1, 3)\n",
    "        for _ in range(AI):\n",
    "            number += 1\n",
    "            print('AI', number)\n",
    "        turn += 1\n",
    "        turn %= 2\n",
    "\n",
    "    if number >= 31:\n",
    "        break\n",
    "\n",
    "if turn == 0:\n",
    "    print('당신의 승리입니다')\n",
    "else:\n",
    "    print('당신의 패배입니다')"
   ]
  },
  {
   "cell_type": "code",
   "execution_count": 2,
   "id": "ddfdb7a4",
   "metadata": {},
   "outputs": [
    {
     "name": "stdout",
     "output_type": "stream",
     "text": [
      "n각형의 n의 수를 입력해주세요 : 6\n"
     ]
    }
   ],
   "source": [
    "import turtle\n",
    "t = turtle.Turtle()\n",
    "t.speed(0)\n",
    "n = int(input(\"n각형의 n의 수를 입력해주세요 : \"))\n",
    "\n",
    "# n-각형을 그리는 함수를 정의한다.\n",
    "def draw(n):\n",
    "    for i in range(n):\n",
    "        t.fd(50)\n",
    "        t.right(360//n)# (360//n) # 정수 나눗셈은 //으로 한다.\n",
    "\n",
    "t.color(\"green\")\n",
    "for i in range(10):\n",
    "        t.right(36)\n",
    "        draw(n+1)\n",
    "\n",
    "t.end_fill()"
   ]
  },
  {
   "cell_type": "code",
   "execution_count": 2,
   "id": "24219ba0",
   "metadata": {},
   "outputs": [],
   "source": [
    "# SETPOSITION 함수를 활용해 좌표로 모래시계 만들기\n",
    "import turtle\n",
    "\n",
    "turtle2 = turtle.Turtle()\n",
    "turtle2.setposition(100, 200)\n",
    "turtle2.setposition(0, 200)\n",
    "turtle2.setposition(100, 0)\n",
    "turtle2.setposition(0, 0)"
   ]
  }
 ],
 "metadata": {
  "kernelspec": {
   "display_name": "Python 3 (ipykernel)",
   "language": "python",
   "name": "python3"
  },
  "language_info": {
   "codemirror_mode": {
    "name": "ipython",
    "version": 3
   },
   "file_extension": ".py",
   "mimetype": "text/x-python",
   "name": "python",
   "nbconvert_exporter": "python",
   "pygments_lexer": "ipython3",
   "version": "3.9.7"
  }
 },
 "nbformat": 4,
 "nbformat_minor": 5
}
