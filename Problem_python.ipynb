{
 "cells": [
  {
   "cell_type": "code",
   "execution_count": 4,
   "id": "085cd723",
   "metadata": {},
   "outputs": [
    {
     "name": "stdout",
     "output_type": "stream",
     "text": [
      "숫자를 입력하세요 : 10\n",
      "10 까지의 숫자의 합계를 출력합니다.\n",
      "10 까지의 숫자 중 홀수의 합 : 25\n",
      "10 까지의 숫자 중 짝수의 합 : 20\n",
      "10 까지의 숫자 중 전체의 합 : 45\n"
     ]
    }
   ],
   "source": [
    "# 홀수, 짝수, 전체의 합 구하기\n",
    "number = int(input(\"숫자를 입력하세요 : \"))\n",
    "print(f'{number} 까지의 숫자의 합계를 출력합니다.')\n",
    "hol, zak = 0, 0;\n",
    "\n",
    "for i in range(0, number):\n",
    "    if i%2 == 1:\n",
    "        hol = hol + i\n",
    "    else:\n",
    "        zak = zak + i\n",
    "    \n",
    "print(f'{number} 까지의 숫자 중 홀수의 합 : {hol}')\n",
    "print(f'{number} 까지의 숫자 중 짝수의 합 : {zak}')\n",
    "\n",
    "print(f'{number} 까지의 숫자 중 전체의 합 : {hol + zak}')"
   ]
  },
  {
   "cell_type": "code",
   "execution_count": 6,
   "id": "f0568df6",
   "metadata": {},
   "outputs": [
    {
     "name": "stdout",
     "output_type": "stream",
     "text": [
      "점수 입력 : 1\n",
      "점수 입력 : 2\n",
      "점수 입력 : 34\n",
      "점수 입력 : 3\n",
      "점수 입력 : 4\n",
      "점수 입력 : 5\n",
      "점수 입력 : 6\n",
      "점수 입력 : 7\n",
      "점수 입력 : 8\n",
      "점수 입력 : 9\n",
      "최고 점수 : 34\n"
     ]
    }
   ],
   "source": [
    "# 가장높은 점수 구하기\n",
    "def inPut():\n",
    "    for i in range(0, 10):\n",
    "        score = int(input(\"점수 입력 : \"))\n",
    "        eng_score.append(score)\n",
    "\n",
    "def highScore(list):\n",
    "    list.sort(reverse=True)\n",
    "    print(f'최고 점수 : {list[0]}')\n",
    "\n",
    "eng_score = []\n",
    "inPut()\n",
    "highScore(eng_score)"
   ]
  },
  {
   "cell_type": "markdown",
   "id": "765b1ef0",
   "metadata": {},
   "source": [
    "### import random\n",
    "print('BR31 게임을 시작하겠습니다.')\n",
    "print('31을 말하는 쪽이 패배합니다.')\n",
    "number = 0\n",
    "turn = 0 \n",
    "while True:\n",
    "    if turn == 0:\n",
    "        user = int(input('몇 개만큼 말할까요?(1~3): '))\n",
    "        for _ in range(user):\n",
    "            number += 1\n",
    "            print('user:', number)\n",
    "        turn += 1\n",
    "        turn %= 2\n",
    "\n",
    "    elif turn == 1:   \n",
    "        AI = random.randint(1, 3)\n",
    "        for _ in range(AI):\n",
    "            number += 1\n",
    "            print('AI', number)\n",
    "        turn += 1\n",
    "        turn %= 2\n",
    "\n",
    "    if number >= 31:\n",
    "        break\n",
    "\n",
    "if turn == 0:\n",
    "    print('당신의 승리입니다')\n",
    "else:\n",
    "    print('당신의 패배입니다')"
   ]
  }
 ],
 "metadata": {
  "kernelspec": {
   "display_name": "Python 3 (ipykernel)",
   "language": "python",
   "name": "python3"
  },
  "language_info": {
   "codemirror_mode": {
    "name": "ipython",
    "version": 3
   },
   "file_extension": ".py",
   "mimetype": "text/x-python",
   "name": "python",
   "nbconvert_exporter": "python",
   "pygments_lexer": "ipython3",
   "version": "3.9.7"
  }
 },
 "nbformat": 4,
 "nbformat_minor": 5
}
